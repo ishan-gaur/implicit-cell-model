{
 "cells": [
  {
   "cell_type": "code",
   "execution_count": 28,
   "metadata": {},
   "outputs": [],
   "source": [
    "import wandb\n",
    "api = wandb.Api()\n",
    "model_type = \"fucci_pred\"\n",
    "image_name = \"train/fucci_states_confusion_matrix\"\n",
    "runs = [\"rmr8u83y\", \"c2f24yau\"]\n",
    "output_type = image_name.replace(\"/\", \"_\")\n",
    "gif_name = f\"{model_type}_{output_type}\""
   ]
  },
  {
   "cell_type": "code",
   "execution_count": 29,
   "metadata": {},
   "outputs": [],
   "source": [
    "def file_filter(file):\n",
    "    if image_name not in file.name:\n",
    "        # print(f\"Skipping {file.name} because it doesn't contain {image_name}\")\n",
    "        return False\n",
    "    # if int(file.name.split(\"_\")[2]) % 10 != 0:\n",
    "    #     return False\n",
    "    if not file.name.endswith('.png'):\n",
    "        # print(f\"Skipping {file.name} because it doesn't end with .png\")\n",
    "        return False\n",
    "    if not (file.name.split(\"_\")[-2]).isnumeric():\n",
    "        print(f\"Skipping {file.name} because it doesn't have a number in the third position\")\n",
    "        return False\n",
    "    # if int(file.name.split(\"_\")[2]) > until_step:\n",
    "    #     return False\n",
    "    return True"
   ]
  },
  {
   "cell_type": "code",
   "execution_count": 30,
   "metadata": {},
   "outputs": [
    {
     "name": "stdout",
     "output_type": "stream",
     "text": [
      "491\n"
     ]
    }
   ],
   "source": [
    "files = []\n",
    "for run_id in runs:\n",
    "    run = api.run(f\"lundberg-lab/FUCCI_{model_type}_VAE/{run_id}\")\n",
    "    for file in run.files():\n",
    "        if file_filter(file) == True:\n",
    "            files.append(file.download(exist_ok=True))\n",
    "\n",
    "print(len(files))"
   ]
  },
  {
   "cell_type": "code",
   "execution_count": 31,
   "metadata": {},
   "outputs": [],
   "source": [
    "from PIL import Image\n",
    "# from PIL import GifImagePlugin\n",
    "# GifImagePlugin.LOADING_STRATEGY = GifImagePlugin.LoadingStrategy.RGB_ALWAYS\n",
    "def images_to_gif(image_fnames, fname):\n",
    "    # image_fnames.sort(key=lambda x: int(x.name.split('_')[-2])) #sort by step\n",
    "    frames = [Image.open(image.name) for image in image_fnames]\n",
    "    frame_one = frames[0]\n",
    "    frame_one.save(f'{fname}.gif', format=\"GIF\", append_images=frames,\n",
    "        save_all=True, duration=0.3, loop=0)\n"
   ]
  },
  {
   "cell_type": "code",
   "execution_count": 32,
   "metadata": {},
   "outputs": [
    {
     "name": "stdout",
     "output_type": "stream",
     "text": [
      "<_io.TextIOWrapper name='./media/images/train/fucci_states_confusion_matrix_10089_a9f9e0b014516f117bdb.png' mode='r' encoding='UTF-8'>\n"
     ]
    }
   ],
   "source": [
    "print(files[0])\n",
    "images_to_gif(files, gif_name)"
   ]
  },
  {
   "attachments": {},
   "cell_type": "markdown",
   "metadata": {},
   "source": [
    "![SegmentLocal](training_samples.gif \"training animation\")"
   ]
  },
  {
   "cell_type": "code",
   "execution_count": null,
   "metadata": {},
   "outputs": [],
   "source": []
  }
 ],
 "metadata": {
  "kernelspec": {
   "display_name": "implicit",
   "language": "python",
   "name": "python3"
  },
  "language_info": {
   "codemirror_mode": {
    "name": "ipython",
    "version": 3
   },
   "file_extension": ".py",
   "mimetype": "text/x-python",
   "name": "python",
   "nbconvert_exporter": "python",
   "pygments_lexer": "ipython3",
   "version": "3.10.10"
  },
  "orig_nbformat": 4
 },
 "nbformat": 4,
 "nbformat_minor": 2
}
