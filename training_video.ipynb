{
 "cells": [
  {
   "cell_type": "code",
   "execution_count": 3,
   "metadata": {},
   "outputs": [],
   "source": [
    "import wandb\n",
    "api = wandb.Api()\n",
    "run = api.run(\"lundberg-lab/FUCCI_reference_VAE/nryo25e4\")"
   ]
  },
  {
   "cell_type": "code",
   "execution_count": 4,
   "metadata": {},
   "outputs": [],
   "source": [
    "def file_filter(file):\n",
    "    if not file.name.endswith('.png'):\n",
    "        return False\n",
    "    if \"training_samples\" not in file.name:\n",
    "        return False\n",
    "    # if int(file.name.split(\"_\")[2]) % 10 != 0:\n",
    "    #     return False\n",
    "    if int(file.name.split(\"_\")[2]) > 8700:\n",
    "        return False\n",
    "    return True"
   ]
  },
  {
   "cell_type": "code",
   "execution_count": 6,
   "metadata": {},
   "outputs": [],
   "source": [
    "files = []\n",
    "for file in run.files():\n",
    "    if file_filter(file) == True:\n",
    "        files.append(file.download(exist_ok=True))"
   ]
  },
  {
   "cell_type": "code",
   "execution_count": 15,
   "metadata": {},
   "outputs": [],
   "source": [
    "from PIL import Image\n",
    "# from PIL import GifImagePlugin\n",
    "# GifImagePlugin.LOADING_STRATEGY = GifImagePlugin.LoadingStrategy.RGB_ALWAYS\n",
    "\n",
    "def images_to_gif(image_fnames, fname):\n",
    "    image_fnames.sort(key=lambda x: int(x.name.split('_')[-2])) #sort by step\n",
    "    frames = [Image.open(image.name) for image in image_fnames]\n",
    "    frame_one = frames[0]\n",
    "    frame_one.save(f'{fname}.gif', format=\"GIF\", append_images=frames,\n",
    "        save_all=True, duration=0.1, loop=0)\n"
   ]
  },
  {
   "cell_type": "code",
   "execution_count": 16,
   "metadata": {},
   "outputs": [],
   "source": [
    "images_to_gif(files, \"training_samples\")"
   ]
  },
  {
   "attachments": {},
   "cell_type": "markdown",
   "metadata": {},
   "source": [
    "![SegmentLocal](training_samples.gif \"training animation\")"
   ]
  }
 ],
 "metadata": {
  "kernelspec": {
   "display_name": "implicit",
   "language": "python",
   "name": "python3"
  },
  "language_info": {
   "codemirror_mode": {
    "name": "ipython",
    "version": 3
   },
   "file_extension": ".py",
   "mimetype": "text/x-python",
   "name": "python",
   "nbconvert_exporter": "python",
   "pygments_lexer": "ipython3",
   "version": "3.10.10"
  },
  "orig_nbformat": 4
 },
 "nbformat": 4,
 "nbformat_minor": 2
}
