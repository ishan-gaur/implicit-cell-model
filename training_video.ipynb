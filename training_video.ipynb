{
 "cells": [
  {
   "cell_type": "code",
   "execution_count": 25,
   "metadata": {},
   "outputs": [],
   "source": [
    "import wandb\n",
    "api = wandb.Api()\n",
    "# run = api.run(\"lundberg-lab/FUCCI_reference_VAE/nryo25e4\")\n",
    "run = api.run(\"lundberg-lab/FUCCI_fucci_VAE/8thg8ng3\")\n",
    "# until_step = 86000\n",
    "gif_name = \"fucci_training_samples\""
   ]
  },
  {
   "cell_type": "code",
   "execution_count": 26,
   "metadata": {},
   "outputs": [],
   "source": [
    "image_name = \"\"\n",
    "def file_filter(file):\n",
    "    if not file.name.endswith('.png'):\n",
    "        return False\n",
    "    if \"train/reconstruction_samples\" not in file.name:\n",
    "        return False\n",
    "    # if int(file.name.split(\"_\")[2]) % 10 != 0:\n",
    "    #     return False\n",
    "    if not (file.name.split(\"_\")[2]).isnumeric():\n",
    "        return False\n",
    "    # if int(file.name.split(\"_\")[2]) > until_step:\n",
    "    #     return False\n",
    "    return True"
   ]
  },
  {
   "cell_type": "code",
   "execution_count": 27,
   "metadata": {},
   "outputs": [],
   "source": [
    "files = []\n",
    "for file in run.files():\n",
    "    if file_filter(file) == True:\n",
    "        files.append(file.download(exist_ok=True))\n",
    "\n",
    "print(len(files))"
   ]
  },
  {
   "cell_type": "code",
   "execution_count": null,
   "metadata": {},
   "outputs": [],
   "source": [
    "from PIL import Image\n",
    "# from PIL import GifImagePlugin\n",
    "# GifImagePlugin.LOADING_STRATEGY = GifImagePlugin.LoadingStrategy.RGB_ALWAYS\n",
    "def images_to_gif(image_fnames, fname):\n",
    "    image_fnames.sort(key=lambda x: int(x.name.split('_')[-2])) #sort by step\n",
    "    frames = [Image.open(image.name) for image in image_fnames]\n",
    "    frame_one = frames[0]\n",
    "    frame_one.save(f'{fname}.gif', format=\"GIF\", append_images=frames,\n",
    "        save_all=True, duration=0.1, loop=0)\n"
   ]
  },
  {
   "cell_type": "code",
   "execution_count": null,
   "metadata": {},
   "outputs": [
    {
     "name": "stdout",
     "output_type": "stream",
     "text": [
      "<_io.TextIOWrapper name='./media/images/train/reconstruction_samples_10047_60cef95933a3be62e5e7.png' mode='r' encoding='UTF-8'>\n"
     ]
    }
   ],
   "source": [
    "print(files[0])\n",
    "images_to_gif(files, gif_name)"
   ]
  },
  {
   "attachments": {},
   "cell_type": "markdown",
   "metadata": {},
   "source": [
    "![SegmentLocal](training_samples.gif \"training animation\")"
   ]
  },
  {
   "cell_type": "code",
   "execution_count": null,
   "metadata": {},
   "outputs": [
    {
     "data": {
      "text/plain": [
       "None"
      ]
     },
     "metadata": {},
     "output_type": "display_data"
    }
   ],
   "source": []
  }
 ],
 "metadata": {
  "kernelspec": {
   "display_name": "implicit",
   "language": "python",
   "name": "python3"
  },
  "language_info": {
   "codemirror_mode": {
    "name": "ipython",
    "version": 3
   },
   "file_extension": ".py",
   "mimetype": "text/x-python",
   "name": "python",
   "nbconvert_exporter": "python",
   "pygments_lexer": "ipython3",
   "version": "3.10.10"
  },
  "orig_nbformat": 4
 },
 "nbformat": 4,
 "nbformat_minor": 2
}
