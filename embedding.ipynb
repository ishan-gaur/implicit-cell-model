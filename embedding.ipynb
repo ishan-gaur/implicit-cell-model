{
 "cells": [
  {
   "cell_type": "code",
   "execution_count": 1,
   "metadata": {},
   "outputs": [
    {
     "name": "stderr",
     "output_type": "stream",
     "text": [
      "/home/ishang/miniconda3/envs/implicit/lib/python3.10/site-packages/torchvision/io/image.py:13: UserWarning: Failed to load image Python extension: '/home/ishang/miniconda3/envs/implicit/lib/python3.10/site-packages/torchvision/image.so: undefined symbol: _ZN5torch3jit17parseSchemaOrNameERKNSt7__cxx1112basic_stringIcSt11char_traitsIcESaIcEEE'If you don't plan on using image functionality from `torchvision.io`, you can ignore this warning. Otherwise, there might be something wrong with your environment. Did you have `libjpeg` or `libpng` installed before building `torchvision` from source?\n",
      "  warn(\n"
     ]
    }
   ],
   "source": [
    "import os\n",
    "import hashlib\n",
    "from pathlib import Path\n",
    "import argparse\n",
    "\n",
    "import torch\n",
    "from torch.utils.data import DataLoader\n",
    "from lightning.pytorch.callbacks import BasePredictionWriter\n",
    "import pandas as pd\n",
    "import lightning.pytorch as pl\n",
    "from FUCCIDataset import FUCCIDatasetInMemory, ReferenceChannelDatasetInMemory, FUCCIChannelDatasetInMemory\n",
    "from LightningModules import AutoEncoder, FUCCIDataModule, MultiModalAutoencoder\n",
    "\n",
    "\n",
    "import numpy as np\n",
    "import multiscale_phate\n",
    "import scprep\n",
    "from sklearn.decomposition import PCA\n",
    "import matplotlib\n",
    "import matplotlib.pyplot as plt\n",
    "import wandb\n",
    "import seaborn as sns"
   ]
  },
  {
   "cell_type": "code",
   "execution_count": 2,
   "metadata": {},
   "outputs": [],
   "source": [
    "os.environ[\"PYTORCH_CUDA_ALLOC_CONF\"] = \"max_split_size_mb:1024\"\n",
    "torch.set_float32_matmul_precision('medium')\n",
    "\n",
    "\n",
    "from dataclasses import dataclass\n",
    "@dataclass\n",
    "class EmbeddingArgs:\n",
    "    model: str\n",
    "    channels: str\n",
    "    data: str\n",
    "\n",
    "args = EmbeddingArgs(\n",
    "    # model=\"/data/ishang/fucci_vae/fucci_256_512_2023_05_24_05_47/\",\n",
    "    # channels=\"fucci\",\n",
    "    # model=\"/data/ishang/fucci_vae/FUCCI_reference_VAE_2023_06_07_11_56/\",\n",
    "    # channels=\"reference\",\n",
    "    # old \"all\" model\n",
    "    # model=\"/data/ishang/fucci_vae/FUCCI_all_VAE_2023_07_05_05_39/lightning_logs/97-16345635.00.ckpt\",\n",
    "    # \"all\" model retraining from scratch with KL and descrim (only 50 epochs though)\n",
    "    # model=\"/data/ishang/fucci_vae/FUCCI_all_VAE_2023_07_28_10_43/lightning_logs/34-1440248.25.ckpt\",\n",
    "    # \"all\" model from finetuning with discrim and kl (only 20 epochs though) (reweighted cont)\n",
    "    # model=\"/data/ishang/fucci_vae/FUCCI_all_VAE_2023_07_28_10_51/lightning_logs/03-688810.44.ckpt\",\n",
    "    # model=\"/data/ishang/fucci_vae/FUCCI_all_VAE_2023_07_28_10_51/lightning_logs/last.ckpt\",\n",
    "    # og from scratch (high lambda--about 50/50) (retraining)\n",
    "    # model=\"/data/ishang/fucci_vae/FUCCI_all_VAE_2023_07_28_10_43/lightning_logs/last.ckpt\",\n",
    "    # early but from just recon + discrim from scratch\n",
    "    # model=\"/data/ishang/fucci_vae/FUCCI_all_VAE_2023_07_29_01_03/lightning_logs/last.ckpt\",\n",
    "    # alternating training model before restart\n",
    "    model=\"/data/ishang/fucci_vae/FUCCI_all_VAE_2023_07_29_04_58/lightning_logs/56-7620879.50.ckpt\",\n",
    "    channels=\"all\",\n",
    "    data=\"/data/ishang/Fucci-dataset-v3_filtered/\")\n",
    "    # data=\"/home/ishang/implicit-cell-model/FUCCI-dev-data\")\n",
    "\n",
    "devices = 1\n",
    "\n",
    "perm = None\n",
    "flipped = False\n",
    "view_variance = False\n",
    "\n",
    "# Note that the index.csv might not be right, but we don't need it right now\n",
    "\n",
    "if not Path(args.model).exists():\n",
    "    raise ValueError(\"Checkpoint path does not exist.\")\n",
    "args.model = Path(args.model)\n",
    "if not args.model.is_file():\n",
    "    if args.model / \"lightning_logs\" in args.model.iterdir():\n",
    "        args.model = args.model / \"lightning_logs\"\n",
    "        if len(list(args.model.iterdir())) > 1:\n",
    "            raise ValueError(\"Multiple model directories were found in lightning_logs.\")\n",
    "        else:\n",
    "            args.model = list(args.model.iterdir())[0]\n",
    "    else:\n",
    "        raise ValueError(\"Model path does not contain lightning_logs directory.\")\n",
    "\n",
    "if not Path(args.data).exists():\n",
    "    raise ValueError(\"Data path does not exist.\")\n",
    "args.data = Path(args.data)\n",
    "\n",
    "if args.channels not in [\"reference\", \"fucci\", \"total\", \"all\"]:\n",
    "    raise ValueError(\"Model must be one of: reference, fucci, total, all\")\n",
    "\n",
    "def img_hash(image):\n",
    "    return hashlib.blake2b(image.numpy().tobytes()).hexdigest()\n",
    "\n",
    "\n",
    "mu_file = args.data / (f\"{args.channels}_mu\" + (\"flipped\" if flipped else \"\") + \".pt\")\n",
    "logvar_file = args.data / (f\"{args.channels}_logvar\" + (\"flipped\" if flipped else \"\") + \".pt\")\n",
    "indices_file = args.data / (f\"{args.channels}_indices\" + (\"flipped\" if flipped else \"\"))\n",
    "colors_file = args.data / \"colors\""
   ]
  },
  {
   "cell_type": "code",
   "execution_count": 3,
   "metadata": {},
   "outputs": [],
   "source": [
    "# Do I ever use a cache again?????\n",
    "\n",
    "if args.data / \"index.csv\" not in args.data.iterdir():\n",
    "    if args.channels == \"reference\":\n",
    "        dataset = ReferenceChannelDatasetInMemory(args.data, imsize=256)\n",
    "    elif args.channels == \"fucci\":\n",
    "        dataset = FUCCIChannelDatasetInMemory(args.data, imsize=256)\n",
    "    else:\n",
    "        dataset = FUCCIDatasetInMemory(args.data, imsize=256)\n",
    "    cache = []\n",
    "    for i in range(len(dataset)):\n",
    "        exp_dir, cell_index = dataset.image_exp_index(i)\n",
    "        cache.append({\n",
    "            \"index\": i,\n",
    "            \"hash\": img_hash(dataset[i]),\n",
    "            \"directory\": str(exp_dir[1]),\n",
    "            \"cell_index\": cell_index\n",
    "        })\n",
    "    cache = pd.DataFrame(cache)\n",
    "    cache.to_csv(args.data / \"index.csv\")\n",
    "\n",
    "else:\n",
    "    cache = pd.read_csv(args.data / \"index.csv\")"
   ]
  },
  {
   "cell_type": "code",
   "execution_count": 4,
   "metadata": {},
   "outputs": [],
   "source": [
    "# dataset = FUCCIDatasetInMemory(args.data, imsize=256)\n",
    "# dataset[0].shape\n",
    "# len(dataset)\n",
    "# # fucci_mag = torch.sum(dataset[:, ]"
   ]
  },
  {
   "cell_type": "code",
   "execution_count": 5,
   "metadata": {},
   "outputs": [],
   "source": [
    "# fucci_images = dataset[:, 2:]\n",
    "# fucci_mag = torch.sum(fucci_images, dim=(1, 2, 3))\n",
    "# fucci_colors = torch.sum(fucci_images, dim=(2, 3)) # TODO: this should be averaged over the nucleus mask\n",
    "# fucci_diff = fucci_colors[:, 1] - fucci_colors[:, 0]\n",
    "# fucci_level = fucci_diff / fucci_mag\n"
   ]
  },
  {
   "cell_type": "code",
   "execution_count": 6,
   "metadata": {},
   "outputs": [],
   "source": [
    "# plt.clf()\n",
    "# plt.scatter(torch.log(fucci_colors[:, 0]), torch.log(fucci_colors[:, 1]), c=fucci_level, cmap=\"RdYlGn\")\n",
    "# plt.show()\n",
    "# plt.clf()\n",
    "# plt.scatter(fucci_level, torch.log(fucci_mag))\n",
    "# plt.show()\n",
    "# plt.clf()\n",
    "# plt.hist(fucci_level)\n",
    "# plt.show()"
   ]
  },
  {
   "cell_type": "code",
   "execution_count": 7,
   "metadata": {},
   "outputs": [],
   "source": [
    "dm = FUCCIDataModule(args.data, args.channels, imsize=256, batch_size=8, num_workers=1, in_memory=True)"
   ]
  },
  {
   "cell_type": "code",
   "execution_count": 8,
   "metadata": {},
   "outputs": [
    {
     "name": "stdout",
     "output_type": "stream",
     "text": [
      "adding channel DAPI\n",
      "adding channel gamma-tubulin\n",
      "adding channel Geminin\n",
      "adding channel CDT1\n"
     ]
    }
   ],
   "source": [
    "if args.channels == \"all\":\n",
    "    model = MultiModalAutoencoder.load_from_checkpoint(args.model)\n",
    "else:\n",
    "    model = AutoEncoder.load_from_checkpoint(args.model)"
   ]
  },
  {
   "cell_type": "code",
   "execution_count": 9,
   "metadata": {},
   "outputs": [],
   "source": [
    "predict_dm = dm"
   ]
  },
  {
   "cell_type": "code",
   "execution_count": 10,
   "metadata": {},
   "outputs": [],
   "source": [
    "class CustomWriter(BasePredictionWriter):\n",
    "\n",
    "    def __init__(self, output_dir, write_interval):\n",
    "        super().__init__(write_interval)\n",
    "        self.output_dir = output_dir\n",
    "\n",
    "    def write_on_epoch_end(self, trainer, pl_module, predictions, batch_indices):\n",
    "        # this will create N (num processes) files in `output_dir` each containing\n",
    "        # the predictions of it's respective rank\n",
    "        print(predictions.shape)\n",
    "        torch.save(predictions, os.path.join(self.output_dir, f\"predictions_{trainer.global_rank}.pt\"))\n",
    "\n",
    "        # optionally, you can also save `batch_indices` to get the information about the data index\n",
    "        # from your prediction data\n",
    "        torch.save(batch_indices, os.path.join(self.output_dir, f\"batch_indices_{trainer.global_rank}.pt\"))"
   ]
  },
  {
   "cell_type": "code",
   "execution_count": 11,
   "metadata": {},
   "outputs": [
    {
     "name": "stderr",
     "output_type": "stream",
     "text": [
      "GPU available: True (cuda), used: False\n",
      "TPU available: False, using: 0 TPU cores\n",
      "IPU available: False, using: 0 IPUs\n",
      "HPU available: False, using: 0 HPUs\n",
      "TPU available: False, using: 0 TPU cores\n",
      "IPU available: False, using: 0 IPUs\n",
      "HPU available: False, using: 0 HPUs\n",
      "/home/ishang/miniconda3/envs/implicit/lib/python3.10/site-packages/lightning/pytorch/trainer/setup.py:176: PossibleUserWarning: GPU available but not used. Set `accelerator` and `devices` using `Trainer(accelerator='gpu', devices=8)`.\n",
      "  rank_zero_warn(\n"
     ]
    }
   ],
   "source": [
    "pred_writer = CustomWriter(output_dir=args.data, write_interval=\"epoch\")\n",
    "# trainer = pl.Trainer(accelerator=\"gpu\", devices=[3], callbacks=[pred_writer], max_epochs=1)\n",
    "trainer = pl.Trainer(accelerator=\"cpu\", callbacks=[pred_writer], max_epochs=1)\n",
    "model.set_predict_mode(\"embedding\")\n",
    "# model.to(\"cuda:0\")\n",
    "model.to(\"cpu\")\n",
    "# print(model.device)\n",
    "if args.channels == \"all\":\n",
    "# if False:\n",
    "    with torch.no_grad():\n",
    "        model.eval()\n",
    "        mus = None\n",
    "        logvar = None\n",
    "        for batch in iter(predict_dm.train_dataloader()):\n",
    "            batch.to(\"cpu\")\n",
    "            if not mus is None and mus[0].shape[0] > 1000:\n",
    "                break\n",
    "            # batch has shape B x C x H x W\n",
    "            mu, logvar = model.forward_embedding(batch)\n",
    "            # mu/logvar are C x B x latent\n",
    "            if mus is None:\n",
    "                mus = mu\n",
    "                logvars = logvar\n",
    "                continue\n",
    "            for i in range(len(mu)):\n",
    "                mus[i] = torch.concat((mus[i], mu[i]))\n",
    "                logvars[i] = torch.concat((logvars[i], logvar[i]))\n",
    "        model.train()\n",
    "        mus = torch.stack(mus)\n",
    "        logvars = torch.stack(logvars)\n",
    "        # mus/logvars is C x B x latent\n",
    "else:\n",
    "    trainer.predict(model, datamodule=predict_dm, return_predictions=False)"
   ]
  },
  {
   "cell_type": "code",
   "execution_count": 12,
   "metadata": {},
   "outputs": [
    {
     "data": {
      "image/png": "[encoded data removed]",
      "text/plain": [
       "<Figure size 640x480 with 1 Axes>"
      ]
     },
     "metadata": {},
     "output_type": "display_data"
    }
   ],
   "source": [
    "# do a PCA visualization of the data and color by the channel, then show same plot colored by sample\n",
    "if args.channels == \"all\":\n",
    "    channels = dm.get_channels()\n",
    "    colors = [\"blue\", \"yellow\", \"green\", \"red\"]\n",
    "    pca = PCA(n_components=2)\n",
    "    data_gpu = torch.clone(mus)\n",
    "    data_gpu = data_gpu.transpose(0, 1).reshape(-1, mus.shape[2])\n",
    "    data = data_gpu.cpu().numpy()\n",
    "    pca.fit(data)\n",
    "    transformed = pca.transform(data)\n",
    "\n",
    "    # plt.clf()\n",
    "    # plt.scatter(transformed[:, 0], transformed[:, 1], c=[i % len(colors) for i in range(transformed.shape[0])], cmap=matplotlib.colors.ListedColormap(colors))\n",
    "    # plt.show()\n",
    "    # plt.clf()\n",
    "    # num_show = 20 * mus.shape[0]\n",
    "    # plt.scatter(transformed[:num_show, 0], transformed[:num_show, 1], c=[i % mus.shape[1] for i in range(num_show)])\n",
    "    # plt.show()\n",
    "    plt.clf()\n",
    "    # sns.scatterplot(x=transformed[:, 0], y=transformed[:, 1], hue=[i % len(colors) for i in range(transformed.shape[0])], palette=colors)\n",
    "    sns.kdeplot(x=transformed[:, 0], y=transformed[:, 1], hue=[i % len(colors) for i in range(transformed.shape[0])], palette=colors)\n",
    "    plt.show()\n",
    "else:\n",
    "    pass"
   ]
  },
  {
   "cell_type": "code",
   "execution_count": 13,
   "metadata": {},
   "outputs": [
    {
     "data": {
      "image/png": "[encoded data removed]",
      "text/plain": [
       "<Figure size 640x480 with 1 Axes>"
      ]
     },
     "metadata": {},
     "output_type": "display_data"
    }
   ],
   "source": [
    "# Plot a histogram of the determinants of the pair-wise vectors between the channels of a given batch element\n",
    "if args.channels == \"all\":\n",
    "    perm_mus = mus.permute(1, 0, 2)\n",
    "    # normalize by mean, variance\n",
    "    normalized_mus = (perm_mus - perm_mus.mean(dim=0)) / perm_mus.std(dim=0)\n",
    "    # mus is B x C x L\n",
    "    diff_vectors = []\n",
    "    for i in range(1, mus.shape[0]):\n",
    "        diff_vector = normalized_mus[:, i, :] - normalized_mus[:, 0, :]\n",
    "        diff_vectors.append(diff_vector)\n",
    "    diff_vectors = torch.stack(diff_vectors, dim=1)\n",
    "    # diff_vectors is B x C-1 x L\n",
    "    S = torch.linalg.svdvals(diff_vectors)\n",
    "    log_areas = torch.log(torch.prod(S, dim=1))\n",
    "    ax = sns.histplot(log_areas, bins=100, kde=True)\n",
    "    ax.set_xlabel(\"log area\")\n",
    "    ax.set_ylabel(\"count of paired samples\")\n",
    "    \n",
    "\n",
    "\n"
   ]
  },
  {
   "cell_type": "code",
   "execution_count": 14,
   "metadata": {},
   "outputs": [],
   "source": [
    "# Now do it with UMAP\n"
   ]
  },
  {
   "cell_type": "code",
   "execution_count": 15,
   "metadata": {},
   "outputs": [
    {
     "ename": "FileNotFoundError",
     "evalue": "[Errno 2] No such file or directory: '/data/ishang/Fucci-dataset-v3_filtered/predictions_0.pt'",
     "output_type": "error",
     "traceback": [
      "\u001b[0;31m---------------------------------------------------------------------------\u001b[0m",
      "\u001b[0;31mFileNotFoundError\u001b[0m                         Traceback (most recent call last)",
      "Cell \u001b[0;32mIn[15], line 4\u001b[0m\n\u001b[1;32m      2\u001b[0m batch_indices \u001b[39m=\u001b[39m []\n\u001b[1;32m      3\u001b[0m \u001b[39mfor\u001b[39;00m i \u001b[39min\u001b[39;00m \u001b[39mrange\u001b[39m(devices):\n\u001b[0;32m----> 4\u001b[0m     predictions\u001b[39m.\u001b[39mappend(torch\u001b[39m.\u001b[39;49mload(args\u001b[39m.\u001b[39;49mdata \u001b[39m/\u001b[39;49m \u001b[39mf\u001b[39;49m\u001b[39m\"\u001b[39;49m\u001b[39mpredictions_\u001b[39;49m\u001b[39m{\u001b[39;49;00mi\u001b[39m}\u001b[39;49;00m\u001b[39m.pt\u001b[39;49m\u001b[39m\"\u001b[39;49m))\n\u001b[1;32m      5\u001b[0m     batch_indices\u001b[39m.\u001b[39mappend(torch\u001b[39m.\u001b[39mload(args\u001b[39m.\u001b[39mdata \u001b[39m/\u001b[39m \u001b[39mf\u001b[39m\u001b[39m\"\u001b[39m\u001b[39mbatch_indices_\u001b[39m\u001b[39m{\u001b[39;00mi\u001b[39m}\u001b[39;00m\u001b[39m.pt\u001b[39m\u001b[39m\"\u001b[39m)[\u001b[39m0\u001b[39m])\n\u001b[1;32m      7\u001b[0m \u001b[39mdef\u001b[39;00m \u001b[39mflatten_one\u001b[39m(l):\n",
      "File \u001b[0;32m~/miniconda3/envs/implicit/lib/python3.10/site-packages/torch/serialization.py:791\u001b[0m, in \u001b[0;36mload\u001b[0;34m(f, map_location, pickle_module, weights_only, **pickle_load_args)\u001b[0m\n\u001b[1;32m    788\u001b[0m \u001b[39mif\u001b[39;00m \u001b[39m'\u001b[39m\u001b[39mencoding\u001b[39m\u001b[39m'\u001b[39m \u001b[39mnot\u001b[39;00m \u001b[39min\u001b[39;00m pickle_load_args\u001b[39m.\u001b[39mkeys():\n\u001b[1;32m    789\u001b[0m     pickle_load_args[\u001b[39m'\u001b[39m\u001b[39mencoding\u001b[39m\u001b[39m'\u001b[39m] \u001b[39m=\u001b[39m \u001b[39m'\u001b[39m\u001b[39mutf-8\u001b[39m\u001b[39m'\u001b[39m\n\u001b[0;32m--> 791\u001b[0m \u001b[39mwith\u001b[39;00m _open_file_like(f, \u001b[39m'\u001b[39;49m\u001b[39mrb\u001b[39;49m\u001b[39m'\u001b[39;49m) \u001b[39mas\u001b[39;00m opened_file:\n\u001b[1;32m    792\u001b[0m     \u001b[39mif\u001b[39;00m _is_zipfile(opened_file):\n\u001b[1;32m    793\u001b[0m         \u001b[39m# The zipfile reader is going to advance the current file position.\u001b[39;00m\n\u001b[1;32m    794\u001b[0m         \u001b[39m# If we want to actually tail call to torch.jit.load, we need to\u001b[39;00m\n\u001b[1;32m    795\u001b[0m         \u001b[39m# reset back to the original position.\u001b[39;00m\n\u001b[1;32m    796\u001b[0m         orig_position \u001b[39m=\u001b[39m opened_file\u001b[39m.\u001b[39mtell()\n",
      "File \u001b[0;32m~/miniconda3/envs/implicit/lib/python3.10/site-packages/torch/serialization.py:271\u001b[0m, in \u001b[0;36m_open_file_like\u001b[0;34m(name_or_buffer, mode)\u001b[0m\n\u001b[1;32m    269\u001b[0m \u001b[39mdef\u001b[39;00m \u001b[39m_open_file_like\u001b[39m(name_or_buffer, mode):\n\u001b[1;32m    270\u001b[0m     \u001b[39mif\u001b[39;00m _is_path(name_or_buffer):\n\u001b[0;32m--> 271\u001b[0m         \u001b[39mreturn\u001b[39;00m _open_file(name_or_buffer, mode)\n\u001b[1;32m    272\u001b[0m     \u001b[39melse\u001b[39;00m:\n\u001b[1;32m    273\u001b[0m         \u001b[39mif\u001b[39;00m \u001b[39m'\u001b[39m\u001b[39mw\u001b[39m\u001b[39m'\u001b[39m \u001b[39min\u001b[39;00m mode:\n",
      "File \u001b[0;32m~/miniconda3/envs/implicit/lib/python3.10/site-packages/torch/serialization.py:252\u001b[0m, in \u001b[0;36m_open_file.__init__\u001b[0;34m(self, name, mode)\u001b[0m\n\u001b[1;32m    251\u001b[0m \u001b[39mdef\u001b[39;00m \u001b[39m__init__\u001b[39m(\u001b[39mself\u001b[39m, name, mode):\n\u001b[0;32m--> 252\u001b[0m     \u001b[39msuper\u001b[39m()\u001b[39m.\u001b[39m\u001b[39m__init__\u001b[39m(\u001b[39mopen\u001b[39;49m(name, mode))\n",
      "\u001b[0;31mFileNotFoundError\u001b[0m: [Errno 2] No such file or directory: '/data/ishang/Fucci-dataset-v3_filtered/predictions_0.pt'"
     ]
    },
    {
     "ename": "",
     "evalue": "",
     "output_type": "error",
     "traceback": [
      "\u001b[1;31mThe Kernel crashed while executing code in the the current cell or a previous cell. Please review the code in the cell(s) to identify a possible cause of the failure. Click <a href='https://aka.ms/vscodeJupyterKernelCrash'>here</a> for more info. View Jupyter <a href='command:jupyter.viewOutput'>log</a> for further details."
     ]
    }
   ],
   "source": [
    "predictions = []\n",
    "batch_indices = []\n",
    "for i in range(devices):\n",
    "    predictions.append(torch.load(args.data / f\"predictions_{i}.pt\"))\n",
    "    batch_indices.append(torch.load(args.data / f\"batch_indices_{i}.pt\")[0])\n",
    "\n",
    "def flatten_one(l):\n",
    "    return [item for sublist in l for item in sublist]\n",
    "\n",
    "print(len(predictions), len(predictions[0]))\n",
    "print(len(batch_indices))\n",
    "\n",
    "predictions = flatten_one(predictions)\n",
    "batch_indices = flatten_one(batch_indices)\n",
    "print(len(predictions), len(predictions[0]))\n",
    "print(len(batch_indices))\n",
    "\n",
    "mu_predictions = [prediction[0] for prediction in predictions]\n",
    "var_predictions = [prediction[1] for prediction in predictions]\n",
    "print(len(mu_predictions), len(var_predictions))\n",
    "\n",
    "mu_predictions = flatten_one(mu_predictions)\n",
    "var_predictions = flatten_one(var_predictions)\n",
    "batch_indices = flatten_one(batch_indices)\n",
    "print(len(mu_predictions), len(var_predictions))\n",
    "print(len(batch_indices))"
   ]
  },
  {
   "cell_type": "code",
   "execution_count": null,
   "metadata": {},
   "outputs": [],
   "source": [
    "mu = torch.stack(mu_predictions)\n",
    "var = torch.stack(var_predictions)\n",
    "indices = batch_indices\n",
    "print(batch_indices)\n",
    "print(mu.shape, var.shape, len(indices))\n",
    "print(mu.min(), mu.max())\n",
    "print(var.min(), var.max())\n",
    "\n",
    "index_map = [0] * len(indices)\n",
    "for i in indices:\n",
    "    index_map[indices[i]] = i\n",
    "\n",
    "torch.save(mu[index_map], mu_file)\n",
    "torch.save(var[index_map], logvar_file)\n",
    "torch.save(indices, indices_file)\n",
    "\n",
    "print([indices[i] for i in index_map])"
   ]
  },
  {
   "cell_type": "code",
   "execution_count": null,
   "metadata": {},
   "outputs": [],
   "source": [
    "# remove the batch_indices_*.pt and predictions_*.pt files\n",
    "for i in range(devices):\n",
    "    os.remove(args.data / f\"predictions_{i}.pt\")\n",
    "    os.remove(args.data / f\"batch_indices_{i}.pt\")"
   ]
  },
  {
   "cell_type": "code",
   "execution_count": null,
   "metadata": {},
   "outputs": [],
   "source": [
    "# compute original colors\n",
    "dataset = FUCCIDatasetInMemory(args.data, imsize=256)"
   ]
  },
  {
   "cell_type": "code",
   "execution_count": null,
   "metadata": {},
   "outputs": [],
   "source": [
    "colors = dataset[:].numpy()\n",
    "print(colors.shape)\n",
    "colors = colors[:, 2:, :, :]\n",
    "color_mag = np.sum(colors, axis=(1, 2, 3))\n",
    "colors = np.sum(colors[:, 0, :, :] - colors[:, 1, :, :], axis=(1, 2)) / color_mag\n",
    "# colors = np.sum(colors[:, 0, :, :] - colors[:, 1, :, :], axis=(1, 2))\n",
    "# colors = np.sign(colors) * np.log(np.abs(colors) + 1e-8)\n",
    "print(colors.min(), colors.max())\n",
    "\n",
    "plt.clf()\n",
    "plt.hist(colors, bins=100)\n",
    "plt.show()\n",
    "plt.clf()\n",
    "\n",
    "plt.clf()\n",
    "plt.hist(np.log(color_mag), bins=100)\n",
    "plt.show()\n",
    "plt.clf()\n",
    "\n",
    "np.save(colors_file, colors)"
   ]
  },
  {
   "cell_type": "code",
   "execution_count": null,
   "metadata": {},
   "outputs": [],
   "source": [
    "def PCA_plot(predictions, message=\"\", sample=None):\n",
    "    # select random elements and do PCA\n",
    "    if sample is None:\n",
    "        sample = len(predictions)\n",
    "    indices = np.random.choice(len(predictions), sample)\n",
    "    embeddings_slice = predictions[indices, :].numpy()\n",
    "    num_components = embeddings_slice.shape[1]\n",
    "    print(f\"Using {num_components} components for PCA\")\n",
    "    pca = PCA(n_components=num_components)\n",
    "    pca.fit(embeddings_slice)\n",
    "    # print(pca.explained_variance_ratio_[:10])\n",
    "    # print(pca.singular_values_)\n",
    "    # print(pca.components_.shape)\n",
    "    # print the number of components needed to have 95% of the variance\n",
    "    print(f\"Number of components needed to have 95% of the variance: {1+np.argmax(np.cumsum(pca.explained_variance_ratio_) > 0.95)}\")\n",
    "\n",
    "    # plot the first 2 components\n",
    "    plt.clf()\n",
    "    plt.title(f\"PCA of FUCCI {args.channels} embeddings {message}\")\n",
    "    plt.scatter(pca.components_[0], pca.components_[1])\n",
    "    plt.show()\n",
    "\n",
    "    plt.clf()\n",
    "    fig, ax = plt.subplots()\n",
    "    plt.title(f\"Bar chart of FUCCI {args.channels} PCA components CDF {message}\")\n",
    "    plt.bar(range(len(pca.explained_variance_ratio_)), np.cumsum(pca.explained_variance_ratio_))\n",
    "    ax.axhline(y=0.95, color='r')\n",
    "    plt.show()\n",
    "    return pca"
   ]
  },
  {
   "cell_type": "code",
   "execution_count": null,
   "metadata": {},
   "outputs": [],
   "source": [
    "input_entity = mu\n",
    "pca = PCA_plot(input_entity, message=\"\")"
   ]
  },
  {
   "cell_type": "code",
   "execution_count": null,
   "metadata": {},
   "outputs": [],
   "source": [
    "def PHATE_fit(embeddings, sample=None, message=\"\"):\n",
    "    if isinstance(embeddings, torch.Tensor):\n",
    "        embeddings = embeddings.numpy()\n",
    "    if sample is not None:\n",
    "        indices = np.random.choice(len(embeddings), sample)\n",
    "        embeddings = embeddings[indices]\n",
    "    mp_op = multiscale_phate.Multiscale_PHATE()\n",
    "    return mp_op.fit_transform(embeddings)\n",
    "\n",
    "def PHATE_plot(mp_embedding, mp_sizes, mp_clusters, message=\"\"):\n",
    "    scprep.plot.scatter2d(mp_embedding, s=mp_sizes, c=mp_clusters,\n",
    "                          fontsize=16, ticks=False,label_prefix=\"Multiscale PHATE\", figsize=(10, 10))"
   ]
  },
  {
   "cell_type": "code",
   "execution_count": null,
   "metadata": {},
   "outputs": [],
   "source": [
    "# script to compute PHATE levels, get embeddings separately, and add colors\n",
    "# can pull this from the github\n",
    "mp_op = multiscale_phate.Multiscale_PHATE()\n",
    "indices = np.random.choice(len(predictions), 2000)\n",
    "embeddings_slice = input_entity[indices, :].numpy()\n",
    "colors_slice = colors[indices]\n",
    "levels = mp_op.fit(embeddings_slice)\n",
    "mp_embedding, mp_clusters, mp_sizes = mp_op.transform(visualization_level = levels[0],\n",
    "                                                                  cluster_level = levels[0])\n",
    "scprep.plot.scatter2d(mp_embedding, cmap=\"RdYlGn\", c=colors_slice, fontsize=16, ticks=False, label_prefix=\"Multiscale PHATE\", figsize=(10,10))"
   ]
  },
  {
   "cell_type": "code",
   "execution_count": null,
   "metadata": {},
   "outputs": [],
   "source": [
    "phate_output = PHATE_fit(input_entity, sample=1000)\n",
    "PHATE_plot(*phate_output, message=\"\")"
   ]
  },
  {
   "cell_type": "code",
   "execution_count": null,
   "metadata": {},
   "outputs": [],
   "source": [
    "# plot UMAP\n",
    "\n",
    "import umap\n",
    "import umap.plot\n",
    "\n",
    "indices = np.random.choice(len(input_entity), 4000)\n",
    "embeddings_slice = input_entity[indices, :].numpy()\n",
    "colors_slice = colors[indices]\n",
    "umap_embedding = umap.UMAP().fit(embeddings_slice)\n",
    "# umap.plot.points(umap_embedding)\n",
    "\n",
    "# plot gradient of red to green for small to large\n",
    "umap.plot.points(umap_embedding, values=colors_slice, cmap=\"RdYlGn\")"
   ]
  },
  {
   "cell_type": "code",
   "execution_count": null,
   "metadata": {},
   "outputs": [],
   "source": [
    "print(pca.components_.shape)\n",
    "print(embeddings_slice.shape)\n",
    "pc_embeddings = np.matmul(pca.components_, embeddings_slice.T)\n",
    "print(pc_embeddings.shape)\n",
    "\n",
    "num_points = 100\n",
    "for i in range(5):\n",
    "    plt.clf()\n",
    "    fig = sns.regplot(x=pc_embeddings[i], y=colors_slice)\n",
    "    plt.show()"
   ]
  },
  {
   "cell_type": "code",
   "execution_count": null,
   "metadata": {},
   "outputs": [],
   "source": [
    "# Plot each variable in the embedding vector against the color and give the R^2 value of the correlation\n",
    "import seaborn as sns\n",
    "\n",
    "print(embeddings_slice.shape)\n",
    "print(type(embeddings_slice), type(colors_slice))\n",
    "num_points = 100\n",
    "for i in range(5):\n",
    "    plt.clf()\n",
    "    fig = sns.regplot(x=embeddings_slice[:, i],\n",
    "                y=colors_slice)\n",
    "    plt.show()"
   ]
  },
  {
   "cell_type": "code",
   "execution_count": null,
   "metadata": {},
   "outputs": [],
   "source": [
    "from sklearn.linear_model import LinearRegression\n",
    "reg = LinearRegression().fit(pc_embeddings.T[:800, :10], colors_slice[:800])\n",
    "print(reg.score(pc_embeddings.T[800:, :10], colors_slice[800:]))\n",
    "print(reg.coef_)"
   ]
  },
  {
   "cell_type": "code",
   "execution_count": null,
   "metadata": {},
   "outputs": [],
   "source": [
    "# train logistic regression classifier on binarized colors\n",
    "from sklearn.linear_model import LogisticRegression\n",
    "reg = LogisticRegression(max_iter=1000)\n",
    "reg.fit(pc_embeddings.T[:800, :10], colors_slice[:800] > 0)\n",
    "print(reg.score(pc_embeddings.T[800:, :10], colors_slice[800:] > 0))"
   ]
  }
 ],
 "metadata": {
  "kernelspec": {
   "display_name": "implicit",
   "language": "python",
   "name": "python3"
  },
  "language_info": {
   "codemirror_mode": {
    "name": "ipython",
    "version": 3
   },
   "file_extension": ".py",
   "mimetype": "text/x-python",
   "name": "python",
   "nbconvert_exporter": "python",
   "pygments_lexer": "ipython3",
   "version": "3.10.12"
  },
  "orig_nbformat": 4
 },
 "nbformat": 4,
 "nbformat_minor": 2
}
