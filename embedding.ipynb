{
 "cells": [
  {
   "cell_type": "code",
   "execution_count": 1,
   "metadata": {},
   "outputs": [],
   "source": [
    "import os\n",
    "import hashlib\n",
    "from pathlib import Path\n",
    "import argparse\n",
    "\n",
    "import torch\n",
    "from torch.utils.data import DataLoader\n",
    "from lightning.pytorch.callbacks import BasePredictionWriter\n",
    "import pandas as pd\n",
    "import lightning.pytorch as pl\n",
    "from FUCCIDataset import FUCCIDatasetInMemory, ReferenceChannelDatasetInMemory, FUCCIChannelDatasetInMemory\n",
    "from LightningModules import AutoEncoder, FUCCIDataModule\n",
    "\n",
    "import numpy as np\n",
    "import multiscale_phate\n",
    "import scprep\n",
    "from sklearn.decomposition import PCA\n",
    "import matplotlib.pyplot as plt\n"
   ]
  },
  {
   "attachments": {},
   "cell_type": "markdown",
   "metadata": {},
   "source": [
    "## Notebook Params"
   ]
  },
  {
   "cell_type": "code",
   "execution_count": 3,
   "metadata": {},
   "outputs": [],
   "source": [
    "##########################################################################################\n",
    "# Set up environment and parser\n",
    "##########################################################################################\n",
    "\n",
    "os.environ[\"PYTORCH_CUDA_ALLOC_CONF\"] = \"max_split_size_mb:1024\"\n",
    "torch.set_float32_matmul_precision('medium')\n",
    "\n",
    "\n",
    "from dataclasses import dataclass\n",
    "@dataclass\n",
    "class EmbeddingArgs:\n",
    "    model: str\n",
    "    channels: str\n",
    "    data: str\n",
    "args = EmbeddingArgs(\n",
    "    model=\"/data/ishang/fucci_vae/fucci_256_512_2023_05_24_05_47/\",\n",
    "    # channels=\"fucci\",\n",
    "    channels=\"reference\",\n",
    "    # data=\"/home/ishang/implicit-cell-model/FUCCI-dev-data\")\n",
    "    data=\"/data/ishang/Fucci-dataset-v3_filtered/\")\n",
    "\n",
    "devices = 8\n",
    "perm = (1, 0)\n",
    "\n",
    "flipped = False\n",
    "\n",
    "view_variance = True\n",
    "\n",
    "# Note that the index.csv might not be right, but we don't need it right now\n",
    "\n",
    "if not Path(args.model).exists():\n",
    "    raise ValueError(\"Checkpoint path does not exist.\")\n",
    "args.model = Path(args.model)\n",
    "if not args.model.is_file():\n",
    "    if args.model / \"lightning_logs\" in args.model.iterdir():\n",
    "        args.model = args.model / \"lightning_logs\"\n",
    "        if len(list(args.model.iterdir())) > 1:\n",
    "            raise ValueError(\"Multiple model directories were found in lightning_logs.\")\n",
    "        else:\n",
    "            args.model = list(args.model.iterdir())[0]\n",
    "    else:\n",
    "        raise ValueError(\"Model path does not contain lightning_logs directory.\")\n",
    "\n",
    "if not Path(args.data).exists():\n",
    "    raise ValueError(\"Data path does not exist.\")\n",
    "args.data = Path(args.data)\n",
    "\n",
    "if args.channels not in [\"reference\", \"fucci\", \"total\"]:\n",
    "    raise ValueError(\"Model must be one of: reference, fucci, total\")\n",
    "\n",
    "if args.channels == \"total\":\n",
    "    raise NotImplementedError(\"Total channels not trained yet.\")\n",
    "\n",
    "\n",
    "def img_hash(image):\n",
    "    return hashlib.blake2b(image.numpy().tobytes()).hexdigest()\n",
    "\n",
    "\n",
    "mu_file = args.data / (f\"{args.channels}_mu\" + (\"flipped\" if flipped else \"\") + \".pt\")\n",
    "var_file = args.data / (f\"{args.channels}_var\" + (\"flipped\" if flipped else \"\") + \".pt\")\n",
    "indices_file = args.data / (f\"{args.channels}_indices\" + (\"flipped\" if flipped else \"\"))\n",
    "colors_file = args.data / \"colors\""
   ]
  },
  {
   "attachments": {},
   "cell_type": "markdown",
   "metadata": {},
   "source": [
    "## Data Setup"
   ]
  },
  {
   "cell_type": "code",
   "execution_count": null,
   "metadata": {},
   "outputs": [],
   "source": [
    "# retrieve the index file for the dataset if it exists--this index is wrong though since \n",
    "# it doesn't get overwritten with the specific channels you're loading\n",
    "\n",
    "\n",
    "if args.data / \"index.csv\" not in args.data.iterdir():\n",
    "    if args.channels == \"reference\":\n",
    "        dataset = ReferenceChannelDatasetInMemory(args.data, imsize=256)\n",
    "    elif args.channels == \"fucci\":\n",
    "        dataset = FUCCIChannelDatasetInMemory(args.data, imsize=256)\n",
    "    else:\n",
    "        dataset = FUCCIDatasetInMemory(args.data, imsize=256)\n",
    "    cache = []\n",
    "    for i in range(len(dataset)):\n",
    "        exp_dir, cell_index = dataset.image_exp_index(i)\n",
    "        cache.append({\n",
    "            \"index\": i,\n",
    "            \"hash\": img_hash(dataset[i]),\n",
    "            \"directory\": str(exp_dir[1]),\n",
    "            \"cell_index\": cell_index\n",
    "        })\n",
    "    cache = pd.DataFrame(cache)\n",
    "    cache.to_csv(args.data / \"index.csv\")\n",
    "\n",
    "else:\n",
    "    cache = pd.read_csv(args.data / \"index.csv\")"
   ]
  },
  {
   "cell_type": "code",
   "execution_count": null,
   "metadata": {},
   "outputs": [],
   "source": [
    "# Load model and datamodule\n",
    "model = AutoEncoder.load_from_checkpoint(args.model)"
   ]
  },
  {
   "cell_type": "code",
   "execution_count": null,
   "metadata": {},
   "outputs": [],
   "source": [
    "dm = FUCCIDataModule(args.data, args.channels, imsize=256, batch_size=16, num_workers=8, in_memory=True)"
   ]
  },
  {
   "cell_type": "code",
   "execution_count": null,
   "metadata": {},
   "outputs": [],
   "source": [
    "# Load dataset with channels rolled forward one\n",
    "\n",
    "dm_perm = FUCCIDataModule(args.data, args.channels, imsize=256, batch_size=16, num_workers=8, permutation=perm, in_memory=True)"
   ]
  },
  {
   "cell_type": "code",
   "execution_count": null,
   "metadata": {},
   "outputs": [],
   "source": [
    "# test permuted data\n",
    "\n",
    "from microfilm import microplot\n",
    "microplot.microshow(dm.dataset[0].numpy(), cmaps=dm.dataset.channel_colors())\n",
    "microplot.microshow(dm_perm.dataset[0].numpy(), cmaps=dm_perm.dataset.channel_colors())"
   ]
  },
  {
   "attachments": {},
   "cell_type": "markdown",
   "metadata": {},
   "source": [
    "## Cache embeddings"
   ]
  },
  {
   "cell_type": "code",
   "execution_count": null,
   "metadata": {},
   "outputs": [],
   "source": [
    "predict_dm = dm"
   ]
  },
  {
   "cell_type": "code",
   "execution_count": null,
   "metadata": {},
   "outputs": [],
   "source": [
    "class CustomWriter(BasePredictionWriter):\n",
    "\n",
    "    def __init__(self, output_dir, write_interval):\n",
    "        super().__init__(write_interval)\n",
    "        self.output_dir = output_dir\n",
    "\n",
    "    def write_on_epoch_end(self, trainer, pl_module, predictions, batch_indices):\n",
    "        # this will create N (num processes) files in `output_dir` each containing\n",
    "        # the predictions of it's respective rank\n",
    "        torch.save(predictions, os.path.join(self.output_dir, f\"predictions_{trainer.global_rank}.pt\"))\n",
    "\n",
    "        # optionally, you can also save `batch_indices` to get the information about the data index\n",
    "        # from your prediction data\n",
    "        torch.save(batch_indices, os.path.join(self.output_dir, f\"batch_indices_{trainer.global_rank}.pt\"))\n",
    "\n",
    "\n",
    "pred_writer = CustomWriter(output_dir=args.data, write_interval=\"epoch\")"
   ]
  },
  {
   "cell_type": "code",
   "execution_count": null,
   "metadata": {},
   "outputs": [],
   "source": [
    "# run trainer on data and store predictions in the .pt files above\n",
    "\n",
    "trainer = pl.Trainer(accelerator=\"gpu\", devices=devices, callbacks=[pred_writer])\n",
    "model.set_predict_mode(\"embedding\")\n",
    "trainer.predict(model, datamodule=predict_dm, return_predictions=False)"
   ]
  },
  {
   "cell_type": "code",
   "execution_count": null,
   "metadata": {},
   "outputs": [],
   "source": [
    "# predictions are a list of tensors, each tensor is the predictions of a batch\n",
    "# batch_indices are is a list of list of lists, each list of lists is the batch indices of an epoch\n",
    "# for prediction we will only have one epoch, so we only need the first list of lists\n",
    "\n",
    "predictions = []\n",
    "batch_indices = []\n",
    "for i in range(devices):\n",
    "    predictions.append(torch.load(args.data / f\"predictions_{i}.pt\"))\n",
    "    batch_indices.append(torch.load(args.data / f\"batch_indices_{i}.pt\")[0])\n",
    "\n",
    "def flatten_one(l):\n",
    "    return [item for sublist in l for item in sublist]\n",
    "\n",
    "print(len(predictions))\n",
    "print(len(batch_indices))\n",
    "# embeddings = []\n",
    "# for batch in predictions:\n",
    "#     embeddings.append(batch[1])\n",
    "# embeddings = flatten_one(embeddings)\n",
    "# batch_indices = flatten_one(batch_indices)\n",
    "# print(len(embeddings))\n",
    "# print(len(batch_indices))"
   ]
  },
  {
   "cell_type": "code",
   "execution_count": null,
   "metadata": {},
   "outputs": [],
   "source": [
    "predictions = flatten_one(predictions)\n",
    "batch_indices = flatten_one(batch_indices)\n",
    "print(len(predictions))\n",
    "print(len(batch_indices))"
   ]
  },
  {
   "cell_type": "code",
   "execution_count": null,
   "metadata": {},
   "outputs": [],
   "source": [
    "mu = []\n",
    "var = []\n",
    "for i in range(len(predictions)):\n",
    "    mu.append(predictions[i][0])\n",
    "    var.append(predictions[i][1])"
   ]
  },
  {
   "cell_type": "code",
   "execution_count": null,
   "metadata": {},
   "outputs": [],
   "source": [
    "mu = torch.cat(mu)\n",
    "var = torch.cat(var)\n",
    "batch_indices = flatten_one(batch_indices)\n",
    "print(mu.shape, var.shape, len(batch_indices))"
   ]
  },
  {
   "cell_type": "code",
   "execution_count": 22,
   "metadata": {},
   "outputs": [
    {
     "name": "stdout",
     "output_type": "stream",
     "text": [
      "tensor(True)\n",
      "tensor(0.) tensor(inf)\n",
      "tensor(False)\n",
      "tensor(0.) tensor(3.4028e+38)\n"
     ]
    }
   ],
   "source": [
    "print(torch.any(torch.isinf(var)))\n",
    "print(var.min(), var.max())\n",
    "var[torch.isinf(var)] = torch.finfo(var.dtype).max\n",
    "# var[torch.isinf(var)] = 10e6\n",
    "print(torch.any(torch.isinf(var)))\n",
    "print(var.min(), var.max())"
   ]
  },
  {
   "cell_type": "code",
   "execution_count": 23,
   "metadata": {},
   "outputs": [
    {
     "ename": "NameError",
     "evalue": "name 'batch_indices' is not defined",
     "output_type": "error",
     "traceback": [
      "\u001b[0;31m---------------------------------------------------------------------------\u001b[0m",
      "\u001b[0;31mNameError\u001b[0m                                 Traceback (most recent call last)",
      "Cell \u001b[0;32mIn[23], line 3\u001b[0m\n\u001b[1;32m      1\u001b[0m torch\u001b[39m.\u001b[39msave(mu, mu_file)\n\u001b[1;32m      2\u001b[0m torch\u001b[39m.\u001b[39msave(var, var_file)\n\u001b[0;32m----> 3\u001b[0m np\u001b[39m.\u001b[39msave(indices_file, np\u001b[39m.\u001b[39masarray(batch_indices))\n",
      "\u001b[0;31mNameError\u001b[0m: name 'batch_indices' is not defined"
     ]
    }
   ],
   "source": [
    "torch.save(mu, mu_file)\n",
    "torch.save(var, var_file)\n",
    "np.save(indices_file, np.asarray(batch_indices))"
   ]
  },
  {
   "cell_type": "code",
   "execution_count": null,
   "metadata": {},
   "outputs": [],
   "source": [
    "# remove the batch_indices_*.pt and predictions_*.pt files\n",
    "for i in range(devices):\n",
    "    os.remove(args.data / f\"predictions_{i}.pt\")\n",
    "    os.remove(args.data / f\"batch_indices_{i}.pt\")"
   ]
  },
  {
   "cell_type": "code",
   "execution_count": null,
   "metadata": {},
   "outputs": [],
   "source": [
    "# compute original colors\n",
    "dataset = FUCCIDatasetInMemory(args.data, imsize=256)\n",
    "colors = dataset[:].numpy()\n",
    "# if dataset is None:\n",
    "print(colors.shape)\n",
    "# colors = np.sum(colors, axis=(1, 2)) / (colors.shape[1] * colors.shape[2])\n",
    "colors = np.sum(colors[:, 0, :, :] - colors[:, 1, :, :], axis=(1, 2)) / np.sum(colors, axis=(1, 2, 3))\n",
    "# colors = np.sign(colors) * np.log(np.abs(colors) + 1e-8)\n",
    "print(colors.min(), colors.max())\n"
   ]
  },
  {
   "cell_type": "code",
   "execution_count": null,
   "metadata": {},
   "outputs": [],
   "source": [
    "np.save(colors_file, colors)"
   ]
  },
  {
   "attachments": {},
   "cell_type": "markdown",
   "metadata": {},
   "source": [
    "## Analysis"
   ]
  },
  {
   "cell_type": "code",
   "execution_count": 24,
   "metadata": {},
   "outputs": [],
   "source": [
    "mu = torch.load(mu_file)\n",
    "var = torch.load(var_file)\n",
    "indices = np.load(indices_file.with_suffix(\".npy\"))\n",
    "colors = np.load(colors_file.with_suffix(\".npy\"))\n",
    "# Update the cache file maybe? Maybe order the predictions or something so you don't need an indices file?--but just added no_shuffle to the datamodule so maybe not"
   ]
  },
  {
   "cell_type": "code",
   "execution_count": null,
   "metadata": {},
   "outputs": [],
   "source": [
    "# load flipped if needed\n",
    "\n",
    "predictions_flipped = torch.load(args.data / embeddings_file_reg)\n",
    "indices_flipped = np.load(args.data / indices_file_reg)\n",
    "\n",
    "# check that the indices are the same\n",
    "assert np.all(indices == indices_flipped)\n",
    "\n",
    "delta_predictions = predictions - predictions_flipped"
   ]
  },
  {
   "cell_type": "code",
   "execution_count": 25,
   "metadata": {},
   "outputs": [],
   "source": [
    "def PCA_plot(predictions, message=\"\", sample=None):\n",
    "    # select random elements and do PCA\n",
    "    if sample is None:\n",
    "        sample = len(predictions)\n",
    "    indices = np.random.choice(len(predictions), sample)\n",
    "    embeddings_slice = predictions[indices, :].numpy()\n",
    "    num_components = embeddings_slice.shape[1]\n",
    "    print(f\"Using {num_components} components for PCA\")\n",
    "    pca = PCA(n_components=num_components)\n",
    "    pca.fit(embeddings_slice)\n",
    "    # print(pca.explained_variance_ratio_[:10])\n",
    "    # print(pca.singular_values_)\n",
    "    # print(pca.components_.shape)\n",
    "    # print the number of components needed to have 95% of the variance\n",
    "    print(f\"Number of components needed to have 95% of the variance: {1+np.argmax(np.cumsum(pca.explained_variance_ratio_) > 0.95)}\")\n",
    "\n",
    "    # plot the first 2 components\n",
    "    plt.clf()\n",
    "    plt.title(f\"PCA of FUCCI {args.channels} embeddings {message}\")\n",
    "    plt.scatter(pca.components_[0], pca.components_[1])\n",
    "    plt.show()\n",
    "\n",
    "    plt.clf()\n",
    "    fig, ax = plt.subplots()\n",
    "    plt.title(f\"Bar chart of FUCCI {args.channels} PCA components CDF {message}\")\n",
    "    plt.bar(range(len(pca.explained_variance_ratio_)), np.cumsum(pca.explained_variance_ratio_))\n",
    "    ax.axhline(y=0.95, color='r')\n",
    "    plt.show()\n",
    "    return pca"
   ]
  },
  {
   "cell_type": "code",
   "execution_count": 26,
   "metadata": {},
   "outputs": [
    {
     "name": "stdout",
     "output_type": "stream",
     "text": [
      "Using 512 components for PCA\n",
      "Number of components needed to have 95% of the variance: 99\n"
     ]
    },
    {
     "data": {
      "image/png": "[encoded data removed]",
      "text/plain": [
       "<Figure size 640x480 with 1 Axes>"
      ]
     },
     "metadata": {},
     "output_type": "display_data"
    },
    {
     "data": {
      "text/plain": [
       "<Figure size 640x480 with 0 Axes>"
      ]
     },
     "metadata": {},
     "output_type": "display_data"
    },
    {
     "data": {
      "image/png": "[encoded data removed]",
      "text/plain": [
       "<Figure size 640x480 with 1 Axes>"
      ]
     },
     "metadata": {},
     "output_type": "display_data"
    },
    {
     "name": "stdout",
     "output_type": "stream",
     "text": [
      "Using 512 components for PCA\n"
     ]
    },
    {
     "name": "stderr",
     "output_type": "stream",
     "text": [
      "/home/ishang/miniconda3/envs/implicit/lib/python3.10/site-packages/numpy/core/_methods.py:181: RuntimeWarning: overflow encountered in reduce\n",
      "  ret = umr_sum(arr, axis, dtype, out, keepdims, where=where)\n"
     ]
    },
    {
     "ename": "ValueError",
     "evalue": "array must not contain infs or NaNs",
     "output_type": "error",
     "traceback": [
      "\u001b[0;31m---------------------------------------------------------------------------\u001b[0m",
      "\u001b[0;31mValueError\u001b[0m                                Traceback (most recent call last)",
      "Cell \u001b[0;32mIn[26], line 2\u001b[0m\n\u001b[1;32m      1\u001b[0m pca_mu \u001b[39m=\u001b[39m PCA_plot(mu, message\u001b[39m=\u001b[39m\u001b[39m\"\u001b[39m\u001b[39m\"\u001b[39m)\n\u001b[0;32m----> 2\u001b[0m pca_var \u001b[39m=\u001b[39m PCA_plot(var, message\u001b[39m=\u001b[39;49m\u001b[39m\"\u001b[39;49m\u001b[39m\"\u001b[39;49m)\n",
      "Cell \u001b[0;32mIn[25], line 10\u001b[0m, in \u001b[0;36mPCA_plot\u001b[0;34m(predictions, message, sample)\u001b[0m\n\u001b[1;32m      8\u001b[0m \u001b[39mprint\u001b[39m(\u001b[39mf\u001b[39m\u001b[39m\"\u001b[39m\u001b[39mUsing \u001b[39m\u001b[39m{\u001b[39;00mnum_components\u001b[39m}\u001b[39;00m\u001b[39m components for PCA\u001b[39m\u001b[39m\"\u001b[39m)\n\u001b[1;32m      9\u001b[0m pca \u001b[39m=\u001b[39m PCA(n_components\u001b[39m=\u001b[39mnum_components)\n\u001b[0;32m---> 10\u001b[0m pca\u001b[39m.\u001b[39;49mfit(embeddings_slice)\n\u001b[1;32m     11\u001b[0m \u001b[39m# print(pca.explained_variance_ratio_[:10])\u001b[39;00m\n\u001b[1;32m     12\u001b[0m \u001b[39m# print(pca.singular_values_)\u001b[39;00m\n\u001b[1;32m     13\u001b[0m \u001b[39m# print(pca.components_.shape)\u001b[39;00m\n\u001b[1;32m     14\u001b[0m \u001b[39m# print the number of components needed to have 95% of the variance\u001b[39;00m\n\u001b[1;32m     15\u001b[0m \u001b[39mprint\u001b[39m(\u001b[39mf\u001b[39m\u001b[39m\"\u001b[39m\u001b[39mNumber of components needed to have 95% of the variance: \u001b[39m\u001b[39m{\u001b[39;00m\u001b[39m1\u001b[39m\u001b[39m+\u001b[39mnp\u001b[39m.\u001b[39margmax(np\u001b[39m.\u001b[39mcumsum(pca\u001b[39m.\u001b[39mexplained_variance_ratio_)\u001b[39m \u001b[39m\u001b[39m>\u001b[39m\u001b[39m \u001b[39m\u001b[39m0.95\u001b[39m)\u001b[39m}\u001b[39;00m\u001b[39m\"\u001b[39m)\n",
      "File \u001b[0;32m~/miniconda3/envs/implicit/lib/python3.10/site-packages/sklearn/decomposition/_pca.py:435\u001b[0m, in \u001b[0;36mPCA.fit\u001b[0;34m(self, X, y)\u001b[0m\n\u001b[1;32m    417\u001b[0m \u001b[39m\u001b[39m\u001b[39m\"\"\"Fit the model with X.\u001b[39;00m\n\u001b[1;32m    418\u001b[0m \n\u001b[1;32m    419\u001b[0m \u001b[39mParameters\u001b[39;00m\n\u001b[0;32m   (...)\u001b[0m\n\u001b[1;32m    431\u001b[0m \u001b[39m    Returns the instance itself.\u001b[39;00m\n\u001b[1;32m    432\u001b[0m \u001b[39m\"\"\"\u001b[39;00m\n\u001b[1;32m    433\u001b[0m \u001b[39mself\u001b[39m\u001b[39m.\u001b[39m_validate_params()\n\u001b[0;32m--> 435\u001b[0m \u001b[39mself\u001b[39;49m\u001b[39m.\u001b[39;49m_fit(X)\n\u001b[1;32m    436\u001b[0m \u001b[39mreturn\u001b[39;00m \u001b[39mself\u001b[39m\n",
      "File \u001b[0;32m~/miniconda3/envs/implicit/lib/python3.10/site-packages/sklearn/decomposition/_pca.py:512\u001b[0m, in \u001b[0;36mPCA._fit\u001b[0;34m(self, X)\u001b[0m\n\u001b[1;32m    510\u001b[0m \u001b[39m# Call different fits for either full or truncated SVD\u001b[39;00m\n\u001b[1;32m    511\u001b[0m \u001b[39mif\u001b[39;00m \u001b[39mself\u001b[39m\u001b[39m.\u001b[39m_fit_svd_solver \u001b[39m==\u001b[39m \u001b[39m\"\u001b[39m\u001b[39mfull\u001b[39m\u001b[39m\"\u001b[39m:\n\u001b[0;32m--> 512\u001b[0m     \u001b[39mreturn\u001b[39;00m \u001b[39mself\u001b[39;49m\u001b[39m.\u001b[39;49m_fit_full(X, n_components)\n\u001b[1;32m    513\u001b[0m \u001b[39melif\u001b[39;00m \u001b[39mself\u001b[39m\u001b[39m.\u001b[39m_fit_svd_solver \u001b[39min\u001b[39;00m [\u001b[39m\"\u001b[39m\u001b[39marpack\u001b[39m\u001b[39m\"\u001b[39m, \u001b[39m\"\u001b[39m\u001b[39mrandomized\u001b[39m\u001b[39m\"\u001b[39m]:\n\u001b[1;32m    514\u001b[0m     \u001b[39mreturn\u001b[39;00m \u001b[39mself\u001b[39m\u001b[39m.\u001b[39m_fit_truncated(X, n_components, \u001b[39mself\u001b[39m\u001b[39m.\u001b[39m_fit_svd_solver)\n",
      "File \u001b[0;32m~/miniconda3/envs/implicit/lib/python3.10/site-packages/sklearn/decomposition/_pca.py:536\u001b[0m, in \u001b[0;36mPCA._fit_full\u001b[0;34m(self, X, n_components)\u001b[0m\n\u001b[1;32m    533\u001b[0m \u001b[39mself\u001b[39m\u001b[39m.\u001b[39mmean_ \u001b[39m=\u001b[39m np\u001b[39m.\u001b[39mmean(X, axis\u001b[39m=\u001b[39m\u001b[39m0\u001b[39m)\n\u001b[1;32m    534\u001b[0m X \u001b[39m-\u001b[39m\u001b[39m=\u001b[39m \u001b[39mself\u001b[39m\u001b[39m.\u001b[39mmean_\n\u001b[0;32m--> 536\u001b[0m U, S, Vt \u001b[39m=\u001b[39m linalg\u001b[39m.\u001b[39;49msvd(X, full_matrices\u001b[39m=\u001b[39;49m\u001b[39mFalse\u001b[39;49;00m)\n\u001b[1;32m    537\u001b[0m \u001b[39m# flip eigenvectors' sign to enforce deterministic output\u001b[39;00m\n\u001b[1;32m    538\u001b[0m U, Vt \u001b[39m=\u001b[39m svd_flip(U, Vt)\n",
      "File \u001b[0;32m~/miniconda3/envs/implicit/lib/python3.10/site-packages/scipy/linalg/_decomp_svd.py:108\u001b[0m, in \u001b[0;36msvd\u001b[0;34m(a, full_matrices, compute_uv, overwrite_a, check_finite, lapack_driver)\u001b[0m\n\u001b[1;32m     13\u001b[0m \u001b[39mdef\u001b[39;00m \u001b[39msvd\u001b[39m(a, full_matrices\u001b[39m=\u001b[39m\u001b[39mTrue\u001b[39;00m, compute_uv\u001b[39m=\u001b[39m\u001b[39mTrue\u001b[39;00m, overwrite_a\u001b[39m=\u001b[39m\u001b[39mFalse\u001b[39;00m,\n\u001b[1;32m     14\u001b[0m         check_finite\u001b[39m=\u001b[39m\u001b[39mTrue\u001b[39;00m, lapack_driver\u001b[39m=\u001b[39m\u001b[39m'\u001b[39m\u001b[39mgesdd\u001b[39m\u001b[39m'\u001b[39m):\n\u001b[1;32m     15\u001b[0m \u001b[39m    \u001b[39m\u001b[39m\"\"\"\u001b[39;00m\n\u001b[1;32m     16\u001b[0m \u001b[39m    Singular Value Decomposition.\u001b[39;00m\n\u001b[1;32m     17\u001b[0m \n\u001b[0;32m   (...)\u001b[0m\n\u001b[1;32m    106\u001b[0m \n\u001b[1;32m    107\u001b[0m \u001b[39m    \"\"\"\u001b[39;00m\n\u001b[0;32m--> 108\u001b[0m     a1 \u001b[39m=\u001b[39m _asarray_validated(a, check_finite\u001b[39m=\u001b[39;49mcheck_finite)\n\u001b[1;32m    109\u001b[0m     \u001b[39mif\u001b[39;00m \u001b[39mlen\u001b[39m(a1\u001b[39m.\u001b[39mshape) \u001b[39m!=\u001b[39m \u001b[39m2\u001b[39m:\n\u001b[1;32m    110\u001b[0m         \u001b[39mraise\u001b[39;00m \u001b[39mValueError\u001b[39;00m(\u001b[39m'\u001b[39m\u001b[39mexpected matrix\u001b[39m\u001b[39m'\u001b[39m)\n",
      "File \u001b[0;32m~/miniconda3/envs/implicit/lib/python3.10/site-packages/scipy/_lib/_util.py:252\u001b[0m, in \u001b[0;36m_asarray_validated\u001b[0;34m(a, check_finite, sparse_ok, objects_ok, mask_ok, as_inexact)\u001b[0m\n\u001b[1;32m    250\u001b[0m         \u001b[39mraise\u001b[39;00m \u001b[39mValueError\u001b[39;00m(\u001b[39m'\u001b[39m\u001b[39mmasked arrays are not supported\u001b[39m\u001b[39m'\u001b[39m)\n\u001b[1;32m    251\u001b[0m toarray \u001b[39m=\u001b[39m np\u001b[39m.\u001b[39masarray_chkfinite \u001b[39mif\u001b[39;00m check_finite \u001b[39melse\u001b[39;00m np\u001b[39m.\u001b[39masarray\n\u001b[0;32m--> 252\u001b[0m a \u001b[39m=\u001b[39m toarray(a)\n\u001b[1;32m    253\u001b[0m \u001b[39mif\u001b[39;00m \u001b[39mnot\u001b[39;00m objects_ok:\n\u001b[1;32m    254\u001b[0m     \u001b[39mif\u001b[39;00m a\u001b[39m.\u001b[39mdtype \u001b[39mis\u001b[39;00m np\u001b[39m.\u001b[39mdtype(\u001b[39m'\u001b[39m\u001b[39mO\u001b[39m\u001b[39m'\u001b[39m):\n",
      "File \u001b[0;32m~/miniconda3/envs/implicit/lib/python3.10/site-packages/numpy/lib/function_base.py:628\u001b[0m, in \u001b[0;36masarray_chkfinite\u001b[0;34m(a, dtype, order)\u001b[0m\n\u001b[1;32m    626\u001b[0m a \u001b[39m=\u001b[39m asarray(a, dtype\u001b[39m=\u001b[39mdtype, order\u001b[39m=\u001b[39morder)\n\u001b[1;32m    627\u001b[0m \u001b[39mif\u001b[39;00m a\u001b[39m.\u001b[39mdtype\u001b[39m.\u001b[39mchar \u001b[39min\u001b[39;00m typecodes[\u001b[39m'\u001b[39m\u001b[39mAllFloat\u001b[39m\u001b[39m'\u001b[39m] \u001b[39mand\u001b[39;00m \u001b[39mnot\u001b[39;00m np\u001b[39m.\u001b[39misfinite(a)\u001b[39m.\u001b[39mall():\n\u001b[0;32m--> 628\u001b[0m     \u001b[39mraise\u001b[39;00m \u001b[39mValueError\u001b[39;00m(\n\u001b[1;32m    629\u001b[0m         \u001b[39m\"\u001b[39m\u001b[39marray must not contain infs or NaNs\u001b[39m\u001b[39m\"\u001b[39m)\n\u001b[1;32m    630\u001b[0m \u001b[39mreturn\u001b[39;00m a\n",
      "\u001b[0;31mValueError\u001b[0m: array must not contain infs or NaNs"
     ]
    }
   ],
   "source": [
    "pca_mu = PCA_plot(mu, message=\"\")\n",
    "pca_var = PCA_plot(var, message=\"\")"
   ]
  },
  {
   "cell_type": "code",
   "execution_count": null,
   "metadata": {},
   "outputs": [],
   "source": [
    "PCA_plot(delta_predictions, message=\"for flipped channel delta\")"
   ]
  },
  {
   "cell_type": "code",
   "execution_count": null,
   "metadata": {},
   "outputs": [],
   "source": [
    "def PHATE_fit(embeddings, sample=None, message=\"\"):\n",
    "    if isinstance(embeddings, torch.Tensor):\n",
    "        embeddings = embeddings.numpy()\n",
    "    if sample is not None:\n",
    "        indices = np.random.choice(len(embeddings), sample)\n",
    "        embeddings = embeddings[indices]\n",
    "    embeddings = embeddings[:, int(view_variance), :]\n",
    "    mp_op = multiscale_phate.Multiscale_PHATE()\n",
    "    return mp_op.fit_transform(embeddings)\n",
    "\n",
    "def PHATE_plot(mp_embedding, mp_sizes, mp_clusters, message=\"\"):\n",
    "    scprep.plot.scatter2d(mp_embedding, s=mp_sizes, c=mp_clusters,\n",
    "                          fontsize=16, ticks=False,label_prefix=\"Multiscale PHATE\", figsize=(10, 10))"
   ]
  },
  {
   "cell_type": "code",
   "execution_count": null,
   "metadata": {},
   "outputs": [],
   "source": [
    "# script to compute PHATE levels, get embeddings separately, and add colors\n",
    "# can pull this from the github\n",
    "mp_op = multiscale_phate.Multiscale_PHATE()\n",
    "indices = np.random.choice(len(predictions), 5000)\n",
    "embeddings_slice = predictions[indices, int(view_variance), :].numpy()\n",
    "colors_slice = colors[indices]\n",
    "levels = mp_op.fit(embeddings_slice)\n",
    "mp_embedding, mp_clusters, mp_sizes = mp_op.transform(visualization_level = levels[0],\n",
    "                                                                  cluster_level = levels[0])\n",
    "scprep.plot.scatter2d(mp_embedding, cmap=\"RdYlGn\", c=colors_slice, fontsize=16, ticks=False, label_prefix=\"Multiscale PHATE\", figsize=(10,10))"
   ]
  },
  {
   "cell_type": "code",
   "execution_count": null,
   "metadata": {},
   "outputs": [],
   "source": [
    "phate_output = PHATE_fit(predictions, sample=1000)"
   ]
  },
  {
   "cell_type": "code",
   "execution_count": null,
   "metadata": {},
   "outputs": [],
   "source": [
    "PHATE_plot(*phate_output, message=\"\")"
   ]
  },
  {
   "cell_type": "code",
   "execution_count": null,
   "metadata": {},
   "outputs": [],
   "source": [
    "# plot UMAP of 100 samples\n",
    "\n",
    "import umap\n",
    "import umap.plot\n",
    "\n",
    "indices = np.random.choice(len(predictions), 5000)\n",
    "embeddings_slice = predictions[indices, int(view_variance), :].numpy()\n",
    "colors_slice = colors[indices]\n",
    "umap_embedding = umap.UMAP().fit(embeddings_slice)\n",
    "# umap.plot.points(umap_embedding)\n",
    "plt.clf()\n",
    "plt.hist(colors, bins=100)\n",
    "plt.show()\n",
    "plt.clf()\n",
    "# plot gradient of red to green for small to large\n",
    "umap.plot.points(umap_embedding, values=colors_slice, cmap=\"RdYlGn\")"
   ]
  },
  {
   "cell_type": "code",
   "execution_count": null,
   "metadata": {},
   "outputs": [],
   "source": [
    "# Plot each variable in the embedding vector against the color and give the R^2 value of the correlation\n",
    "import seaborn as sns\n",
    "# import scipy as sp\n",
    "\n",
    "# def annotate(data, **kws):\n",
    "#     r, p = sp.stats.pearsonr(data[0], data[1])\n",
    "#     ax = plt.gca()\n",
    "#     ax.text(.05, .8, 'r={:.2f}, p={:.2g}'.format(r, p),\n",
    "#             transform=ax.transAxes)\n",
    "print(embeddings_slice.shape)\n",
    "print(type(embeddings_slice), type(colors_slice))\n",
    "# for i in range(embeddings.shape[1]):\n",
    "num_points = 100\n",
    "for i in range(10):\n",
    "    plt.clf()\n",
    "    fig = sns.regplot(x=np.random.choice(embeddings_slice[:, i],\n",
    "            size=num_points), \n",
    "            y=np.random.choice(colors_slice, size=num_points))\n",
    "    # fig.map_dataframe(annotate)\n",
    "    plt.show()\n"
   ]
  },
  {
   "cell_type": "code",
   "execution_count": null,
   "metadata": {},
   "outputs": [],
   "source": [
    "pc_embeddings = np.matmul(pca.components_[:500], embeddings_slice.T)\n",
    "print(pc_embeddings.shape)\n",
    "\n",
    "num_points = 100\n",
    "for i in range(10):\n",
    "    plt.clf()\n",
    "    fig = sns.regplot(x=np.random.choice(pc_embeddings[i], size=num_points), y=np.random.choice(colors, size=num_points))\n",
    "    # fig.map_dataframe(annotate)\n",
    "    plt.show()\n"
   ]
  },
  {
   "cell_type": "code",
   "execution_count": null,
   "metadata": {},
   "outputs": [],
   "source": [
    "# linear regression classifier over the pc_embeddings\n",
    "from sklearn.linear_model import LinearRegression\n",
    "# print(pc_embeddings.shape, colors.shape)\n",
    "reg = LinearRegression().fit(pc_embeddings.T[:4000, :10], colors[:4000])\n"
   ]
  },
  {
   "cell_type": "code",
   "execution_count": null,
   "metadata": {},
   "outputs": [],
   "source": [
    "print(reg.score(pc_embeddings.T[4000:, :10], colors[4000:]))\n",
    "print(reg.coef_)"
   ]
  },
  {
   "cell_type": "code",
   "execution_count": null,
   "metadata": {},
   "outputs": [],
   "source": [
    "# train logistic regression classifier on binarized colors\n",
    "from sklearn.linear_model import LogisticRegression\n",
    "\n",
    "# colors_bin = np.sign(colors)\n",
    "colors_bin = colors\n",
    "reg.fit(pc_embeddings.T[:4000, :500], colors_bin[:4000])\n",
    "reg.score(pc_embeddings.T[:4000, :500], colors_bin[:4000])\n"
   ]
  },
  {
   "cell_type": "code",
   "execution_count": null,
   "metadata": {},
   "outputs": [],
   "source": [
    "# make a bar chart of the logistic regression weights for each class"
   ]
  }
 ],
 "metadata": {
  "kernelspec": {
   "display_name": "implicit",
   "language": "python",
   "name": "python3"
  },
  "language_info": {
   "codemirror_mode": {
    "name": "ipython",
    "version": 3
   },
   "file_extension": ".py",
   "mimetype": "text/x-python",
   "name": "python",
   "nbconvert_exporter": "python",
   "pygments_lexer": "ipython3",
   "version": "3.10.10"
  },
  "orig_nbformat": 4
 },
 "nbformat": 4,
 "nbformat_minor": 2
}
