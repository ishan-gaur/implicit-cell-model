{
 "cells": [
  {
   "cell_type": "code",
   "execution_count": 1,
   "metadata": {},
   "outputs": [],
   "source": [
    "# from FUCCIDataset import FUCCIDataset, ReferenceChannelDataset, FUCCIChannelDataset\n",
    "import numpy as np\n",
    "import torch\n",
    "from kornia.utils import tensor_to_image\n",
    "from FUCCIDataset import FUCCIDatasetInMemory, ReferenceChannelDatasetInMemory, FUCCIChannelDatasetInMemory\n",
    "from LightningModules import FUCCIDataModule\n",
    "from microfilm import microplot"
   ]
  },
  {
   "cell_type": "code",
   "execution_count": 2,
   "metadata": {},
   "outputs": [
    {
     "name": "stdout",
     "output_type": "stream",
     "text": [
      "(147, 2, 4, 256)\n"
     ]
    },
    {
     "data": {
      "text/plain": [
       "(2, 4, 256)"
      ]
     },
     "execution_count": 2,
     "metadata": {},
     "output_type": "execute_result"
    }
   ],
   "source": [
    "FUCCI_PATH = '/home/ishang/implicit-cell-model/FUCCI-dev-data'\n",
    "# ds = ReferenceChannelDataset(FUCCI_PATH, imsize=256)\n",
    "# ds = ReferenceChannelDatasetInMemory(FUCCI_PATH, imsize=256)\n",
    "ds = ReferenceChannelDatasetInMemory(FUCCI_PATH, imsize=256)\n",
    "print(ds.dataset_images.shape)\n",
    "ds[0].shape\n",
    "ds[20].shape"
   ]
  },
  {
   "cell_type": "code",
   "execution_count": 5,
   "metadata": {},
   "outputs": [
    {
     "name": "stdout",
     "output_type": "stream",
     "text": [
      "<FUCCIDataset.ReferenceChannelDatasetInMemory object at 0x7f70b56efc40>\n"
     ]
    }
   ],
   "source": [
    "print(len(ds))"
   ]
  },
  {
   "cell_type": "code",
   "execution_count": null,
   "metadata": {},
   "outputs": [],
   "source": [
    "dm = FUCCIDataModule(data_dir=FUCCI_PATH, dataset=\"reference\", batch_size=16, num_workers=32, imsize=1024)\n",
    "dm_small = FUCCIDataModule(data_dir=FUCCI_PATH, dataset=\"reference\", batch_size=16, num_workers=32, imsize=256)\n",
    "train_data = dm.train_dataloader()\n",
    "data_batch = next(iter(train_data))\n",
    "data_batch_small = next(iter(dm_small.train_dataloader()))"
   ]
  },
  {
   "cell_type": "code",
   "execution_count": null,
   "metadata": {},
   "outputs": [
    {
     "name": "stdout",
     "output_type": "stream",
     "text": [
      "(2, 4, 256)\n"
     ]
    },
    {
     "data": {
      "text/plain": [
       "<microfilm.microplot.Microimage at 0x7f2ec0123160>"
      ]
     },
     "execution_count": 5,
     "metadata": {},
     "output_type": "execute_result"
    },
    {
     "data": {
      "image/png": "[encoded data removed]",
      "text/plain": [
       "<Figure size 216x3.375 with 1 Axes>"
      ]
     },
     "metadata": {},
     "output_type": "display_data"
    }
   ],
   "source": [
    "torch.max(data_batch[0, 1, :, :])\n",
    "cmap = ['pure_blue', 'pure_yellow', 'pure_green', 'pure_red']\n",
    "img = np.moveaxis(tensor_to_image(data_batch[0]), -1, 0)\n",
    "print(img.shape)\n",
    "microplot.microshow(images=img, cmaps=cmap[:2])"
   ]
  },
  {
   "cell_type": "code",
   "execution_count": null,
   "metadata": {},
   "outputs": [
    {
     "name": "stdout",
     "output_type": "stream",
     "text": [
      "(2, 4, 256)\n",
      "(2, 4, 256)\n"
     ]
    },
    {
     "data": {
      "image/png": "[encoded data removed]",
      "text/plain": [
       "<Figure size 216x3.375 with 1 Axes>"
      ]
     },
     "metadata": {},
     "output_type": "display_data"
    },
    {
     "data": {
      "image/png": "[encoded data removed]",
      "text/plain": [
       "<Figure size 216x3.375 with 1 Axes>"
      ]
     },
     "metadata": {},
     "output_type": "display_data"
    }
   ],
   "source": [
    "img_small = np.moveaxis(tensor_to_image(data_batch_small[0]), -1, 0)\n",
    "img_1024 = microplot.microshow(images=img, cmaps=cmap[:2])\n",
    "img_256 = microplot.microshow(images=img_small, cmaps=cmap[:2])\n",
    "img_1024.savefig(\"sample_ref_1024.png\")\n",
    "img_256.savefig(\"sample_ref_256.png\")\n",
    "print(img.shape)\n",
    "print(img_small.shape)"
   ]
  },
  {
   "cell_type": "code",
   "execution_count": null,
   "metadata": {},
   "outputs": [],
   "source": [
    "# import imageio as iio\n",
    "\n",
    "# iio.imwrite(\"sample_ref_nuclei_256.png\", img_small[0])\n",
    "# iio.imwrite(\"sample_ref_microtubule_256.png\", img_small[1])\n",
    "# iio.imwrite(\"sample_ref_nuclei_1024.png\", img[0])\n",
    "# iio.imwrite(\"sample_ref_microtubule_1024.png\", img[1])\n",
    "\n",
    "from PIL import Image\n",
    "Image.fromarray(img_small[0]).convert(\"I\").save(\"sample_ref_nuclei_256.png\")\n",
    "Image.fromarray(img_small[1]).convert(\"I\").save(\"sample_ref_microtubule_256.png\")\n",
    "Image.fromarray(img[0]).convert(\"I\").save(\"sample_ref_nuclei_1024.png\")\n",
    "Image.fromarray(img[1]).convert(\"I\").save(\"sample_ref_microtubule_1024.png\")"
   ]
  }
 ],
 "metadata": {
  "kernelspec": {
   "display_name": "implicit",
   "language": "python",
   "name": "python3"
  },
  "language_info": {
   "codemirror_mode": {
    "name": "ipython",
    "version": 3
   },
   "file_extension": ".py",
   "mimetype": "text/x-python",
   "name": "python",
   "nbconvert_exporter": "python",
   "pygments_lexer": "ipython3",
   "version": "3.10.10"
  },
  "orig_nbformat": 4
 },
 "nbformat": 4,
 "nbformat_minor": 2
}
