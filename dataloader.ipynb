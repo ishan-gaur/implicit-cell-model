{
 "cells": [
  {
   "cell_type": "code",
   "execution_count": 1,
   "metadata": {},
   "outputs": [],
   "source": [
    "# from FUCCIDataset import FUCCIDataset, ReferenceChannelDataset, FUCCIChannelDataset\n",
    "import numpy as np\n",
    "import torch\n",
    "from kornia.utils import tensor_to_image\n",
    "from FUCCIDataset import FUCCIDatasetInMemory, ReferenceChannelDatasetInMemory, FUCCIChannelDatasetInMemory\n",
    "from LightningModules import FUCCIDataModule\n",
    "from microfilm import microplot"
   ]
  },
  {
   "cell_type": "code",
   "execution_count": 2,
   "metadata": {},
   "outputs": [
    {
     "name": "stdout",
     "output_type": "stream",
     "text": [
      "<super: <class 'FUCCIDatasetInMemory'>, <FUCCIDatasetInMemory object>>\n",
      "<bound method FUCCIDataset.__getitem__ of <FUCCIDataset.FUCCIDatasetInMemory object at 0x7f1019e3fbb0>>\n"
     ]
    },
    {
     "ename": "TypeError",
     "evalue": "super(type, obj): obj must be an instance or subtype of type",
     "output_type": "error",
     "traceback": [
      "\u001b[0;31m---------------------------------------------------------------------------\u001b[0m",
      "\u001b[0;31mTypeError\u001b[0m                                 Traceback (most recent call last)",
      "Cell \u001b[0;32mIn[2], line 4\u001b[0m\n\u001b[1;32m      1\u001b[0m FUCCI_PATH \u001b[39m=\u001b[39m \u001b[39m'\u001b[39m\u001b[39m/home/ishang/cross-modal-autoencoders/FUCCI-dev-data\u001b[39m\u001b[39m'\u001b[39m\n\u001b[1;32m      2\u001b[0m \u001b[39m# ds = ReferenceChannelDataset(FUCCI_PATH, imsize=256)\u001b[39;00m\n\u001b[1;32m      3\u001b[0m \u001b[39m# ds = ReferenceChannelDatasetInMemory(FUCCI_PATH, imsize=256)\u001b[39;00m\n\u001b[0;32m----> 4\u001b[0m ds \u001b[39m=\u001b[39m FUCCIDatasetInMemory(FUCCI_PATH, imsize\u001b[39m=\u001b[39;49m\u001b[39m256\u001b[39;49m)\n\u001b[1;32m      6\u001b[0m ds[\u001b[39m0\u001b[39m]\u001b[39m.\u001b[39mshape\n\u001b[1;32m      7\u001b[0m ds[\u001b[39m20\u001b[39m]\u001b[39m.\u001b[39mshape\n",
      "File \u001b[0;32m~/implicit-cell-model/FUCCIDataset.py:243\u001b[0m, in \u001b[0;36mFUCCIDatasetInMemory.__init__\u001b[0;34m(self, *args, **kwargs)\u001b[0m\n\u001b[1;32m    241\u001b[0m \u001b[39mprint\u001b[39m(\u001b[39msuper\u001b[39m())\n\u001b[1;32m    242\u001b[0m \u001b[39mprint\u001b[39m(\u001b[39msuper\u001b[39m()\u001b[39m.\u001b[39m\u001b[39m__getitem__\u001b[39m)\n\u001b[0;32m--> 243\u001b[0m \u001b[39mself\u001b[39m\u001b[39m.\u001b[39mdataset_images \u001b[39m=\u001b[39m np\u001b[39m.\u001b[39masarray([\u001b[39msuper\u001b[39m()\u001b[39m.\u001b[39m\u001b[39m__getitem__\u001b[39m(i)\u001b[39m.\u001b[39mnumpy() \u001b[39mfor\u001b[39;00m i \u001b[39min\u001b[39;00m \u001b[39mrange\u001b[39m(\u001b[39mself\u001b[39m\u001b[39m.\u001b[39mlen)])\n",
      "File \u001b[0;32m~/implicit-cell-model/FUCCIDataset.py:243\u001b[0m, in \u001b[0;36m<listcomp>\u001b[0;34m(.0)\u001b[0m\n\u001b[1;32m    241\u001b[0m \u001b[39mprint\u001b[39m(\u001b[39msuper\u001b[39m())\n\u001b[1;32m    242\u001b[0m \u001b[39mprint\u001b[39m(\u001b[39msuper\u001b[39m()\u001b[39m.\u001b[39m\u001b[39m__getitem__\u001b[39m)\n\u001b[0;32m--> 243\u001b[0m \u001b[39mself\u001b[39m\u001b[39m.\u001b[39mdataset_images \u001b[39m=\u001b[39m np\u001b[39m.\u001b[39masarray([\u001b[39msuper\u001b[39;49m()\u001b[39m.\u001b[39m\u001b[39m__getitem__\u001b[39m(i)\u001b[39m.\u001b[39mnumpy() \u001b[39mfor\u001b[39;00m i \u001b[39min\u001b[39;00m \u001b[39mrange\u001b[39m(\u001b[39mself\u001b[39m\u001b[39m.\u001b[39mlen)])\n",
      "\u001b[0;31mTypeError\u001b[0m: super(type, obj): obj must be an instance or subtype of type"
     ]
    }
   ],
   "source": [
    "FUCCI_PATH = '/home/ishang/cross-modal-autoencoders/FUCCI-dev-data'\n",
    "# ds = ReferenceChannelDataset(FUCCI_PATH, imsize=256)\n",
    "# ds = ReferenceChannelDatasetInMemory(FUCCI_PATH, imsize=256)\n",
    "ds = FUCCIDatasetInMemory(FUCCI_PATH, imsize=256)\n",
    "\n",
    "ds[0].shape\n",
    "ds[20].shape"
   ]
  },
  {
   "cell_type": "code",
   "execution_count": null,
   "metadata": {},
   "outputs": [],
   "source": [
    "dm = FUCCIDataModule(data_dir=FUCCI_PATH, dataset=\"reference\", batch_size=16, num_workers=32, imsize=1024)\n",
    "dm_small = FUCCIDataModule(data_dir=FUCCI_PATH, dataset=\"reference\", batch_size=16, num_workers=32, imsize=256)\n",
    "train_data = dm.train_dataloader()\n",
    "data_batch = next(iter(train_data))\n",
    "data_batch_small = next(iter(dm_small.train_dataloader()))"
   ]
  },
  {
   "cell_type": "code",
   "execution_count": null,
   "metadata": {},
   "outputs": [],
   "source": [
    "torch.max(data_batch[0, 1, :, :])\n",
    "cmap = ['pure_blue', 'pure_yellow', 'pure_green', 'pure_red']\n",
    "img = np.moveaxis(tensor_to_image(data_batch[0]), -1, 0)\n",
    "print(img.shape)\n",
    "microplot.microshow(images=img, cmaps=cmap[:2])"
   ]
  },
  {
   "cell_type": "code",
   "execution_count": null,
   "metadata": {},
   "outputs": [],
   "source": [
    "img_small = np.moveaxis(tensor_to_image(data_batch_small[0]), -1, 0)\n",
    "img_1024 = microplot.microshow(images=img, cmaps=cmap[:2])\n",
    "img_256 = microplot.microshow(images=img_small, cmaps=cmap[:2])\n",
    "img_1024.savefig(\"sample_ref_1024.png\")\n",
    "img_256.savefig(\"sample_ref_256.png\")\n",
    "print(img.shape)\n",
    "print(img_small.shape)"
   ]
  },
  {
   "cell_type": "code",
   "execution_count": null,
   "metadata": {},
   "outputs": [],
   "source": [
    "# import imageio as iio\n",
    "\n",
    "# iio.imwrite(\"sample_ref_nuclei_256.png\", img_small[0])\n",
    "# iio.imwrite(\"sample_ref_microtubule_256.png\", img_small[1])\n",
    "# iio.imwrite(\"sample_ref_nuclei_1024.png\", img[0])\n",
    "# iio.imwrite(\"sample_ref_microtubule_1024.png\", img[1])\n",
    "\n",
    "from PIL import Image\n",
    "Image.fromarray(img_small[0]).convert(\"I\").save(\"sample_ref_nuclei_256.png\")\n",
    "Image.fromarray(img_small[1]).convert(\"I\").save(\"sample_ref_microtubule_256.png\")\n",
    "Image.fromarray(img[0]).convert(\"I\").save(\"sample_ref_nuclei_1024.png\")\n",
    "Image.fromarray(img[1]).convert(\"I\").save(\"sample_ref_microtubule_1024.png\")"
   ]
  }
 ],
 "metadata": {
  "kernelspec": {
   "display_name": "implicit",
   "language": "python",
   "name": "python3"
  },
  "language_info": {
   "codemirror_mode": {
    "name": "ipython",
    "version": 3
   },
   "file_extension": ".py",
   "mimetype": "text/x-python",
   "name": "python",
   "nbconvert_exporter": "python",
   "pygments_lexer": "ipython3",
   "version": "3.10.10"
  },
  "orig_nbformat": 4
 },
 "nbformat": 4,
 "nbformat_minor": 2
}
